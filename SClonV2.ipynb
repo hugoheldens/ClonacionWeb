{
  "nbformat": 4,
  "nbformat_minor": 0,
  "metadata": {
    "colab": {
      "provenance": [],
      "include_colab_link": true
    },
    "kernelspec": {
      "name": "python3",
      "display_name": "Python 3"
    },
    "language_info": {
      "name": "python"
    }
  },
  "cells": [
    {
      "cell_type": "markdown",
      "metadata": {
        "id": "view-in-github",
        "colab_type": "text"
      },
      "source": [
        "<a href=\"https://colab.research.google.com/github/hugoheldens/ClonacionWeb/blob/main/SClonV2.ipynb\" target=\"_parent\"><img src=\"https://colab.research.google.com/assets/colab-badge.svg\" alt=\"Open In Colab\"/></a>"
      ]
    },
    {
      "cell_type": "code",
      "execution_count": null,
      "metadata": {
        "colab": {
          "base_uri": "https://localhost:8080/"
        },
        "id": "gcUdSoVNs6-u",
        "outputId": "a911fecc-02fd-4c90-a86a-a30468a1737a"
      },
      "outputs": [
        {
          "output_type": "stream",
          "name": "stdout",
          "text": [
            "Introduce la URL del sitio web: https://www.aragon.unam.mx/fes-aragon/#!/inicio\n",
            "Archivo descargado: all.css\n",
            "Archivo descargado: bootstrap.min.css\n",
            "Archivo descargado: gallery.css\n",
            "Archivo descargado: noty.css\n",
            "Archivo descargado: metroui.css\n",
            "Archivo descargado: animate.min.css\n",
            "Archivo descargado: owl.carousel.min.css\n",
            "Archivo descargado: owl.theme.default.min.css\n",
            "Archivo descargado: menu.css\n",
            "Archivo descargado: icono.css\n",
            "Archivo descargado: styles.css\n",
            "Archivo descargado: icons.css\n",
            "Archivo descargado: default.css\n",
            "Archivo descargado: ngDialog.min.css\n",
            "Archivo descargado: ngDialog-theme-default.min.css\n",
            "Error al descargar el archivo: https://www.aragon.unam.mx/fes-aragon/ https:/www.google.com/ 404\n",
            "Archivo descargado: catalogo-servicios.pdf\n",
            "Archivo descargado: catalogo-servicios.pdf\n",
            "Archivo descargado: integral-de-la-fes-aragon.pdf\n",
            "Archivo descargado: simplificado-de-la-fes-aragon.pdf\n",
            "Archivo descargado: integral-del-circuito-cerrado-de-television-cctv-de-la-fes-aragon.pdf\n",
            "Archivo descargado: simplificado-del-circuito-cerrado-de-television-cctv-de-la-fes-aragon.pdf\n",
            "Archivo descargado: protocolo-de-genero.pdf\n",
            "Archivo descargado: jquery.min.js\n",
            "Archivo descargado: angular.min.js\n",
            "Archivo descargado: bootstrap.min.js\n",
            "Archivo descargado: scroll.js\n",
            "Archivo descargado: angular-ui-router.min.js\n",
            "Archivo descargado: jcs-auto-validate.min.js\n",
            "Archivo descargado: ngDialog.min.js\n",
            "Archivo descargado: noty.min.js\n",
            "Archivo descargado: menu.js\n",
            "Archivo descargado: jssor.slider.min.js\n",
            "Archivo descargado: owl.carousel.min.js\n",
            "Archivo descargado: ocLazyLoad.min.js\n",
            "Archivo descargado: app.js\n",
            "Clonado completado!\n"
          ]
        }
      ],
      "source": [
        "import requests\n",
        "from bs4 import BeautifulSoup\n",
        "from urllib.parse import urlparse, urljoin\n",
        "import os\n",
        "import shutil\n",
        "\n",
        "def clonar_sitio_web(url):\n",
        "    # Configurar las cabeceras del navegador\n",
        "    headers = {\n",
        "        'User-Agent': 'Mozilla/5.0 (Windows NT 10.0; Win64; x64) AppleWebKit/537.36 (KHTML, like Gecko) Chrome/58.0.3029.110 Safari/537.3'\n",
        "    }\n",
        "\n",
        "    # Realizar la solicitud HTTP con las cabeceras\n",
        "    response = requests.get(url, headers=headers)\n",
        "    if response.status_code == 200:\n",
        "        html = response.text\n",
        "    else:\n",
        "        print(\"Error al acceder a la URL:\", response.status_code)\n",
        "        return\n",
        "\n",
        "    # Crear un objeto BeautifulSoup para analizar el HTML\n",
        "    soup = BeautifulSoup(html, 'html.parser')\n",
        "\n",
        "    # Crear un directorio para almacenar el contenido clonado\n",
        "    directorio_destino = 'sitio_clonado'\n",
        "    if os.path.exists(directorio_destino):\n",
        "        shutil.rmtree(directorio_destino)  # Eliminar el directorio existente\n",
        "    os.makedirs(directorio_destino)  # Crear un nuevo directorio\n",
        "\n",
        "    # Descargar y guardar cada archivo enlazado encontrado en el sitio web\n",
        "    enlaces = soup.find_all(['a', 'link', 'script'])\n",
        "    for enlace in enlaces:\n",
        "        href = enlace.get('href')\n",
        "        src = enlace.get('src')\n",
        "        if href:\n",
        "            # Convertir el enlace relativo a enlace absoluto\n",
        "            enlace_absoluto = urljoin(url, href)\n",
        "\n",
        "            # Descargar el archivo solo si pertenece al mismo dominio\n",
        "            if urlparse(enlace_absoluto).netloc == urlparse(url).netloc:\n",
        "                descargar_archivo(enlace_absoluto, directorio_destino)\n",
        "\n",
        "        if src:\n",
        "            # Convertir la ruta relativa a ruta absoluta\n",
        "            src_absoluto = urljoin(url, src)\n",
        "\n",
        "            # Descargar el archivo solo si pertenece al mismo dominio\n",
        "            if urlparse(src_absoluto).netloc == urlparse(url).netloc:\n",
        "                descargar_archivo(src_absoluto, directorio_destino)\n",
        "\n",
        "    print(\"Clonado completado!\")\n",
        "\n",
        "def descargar_archivo(url, directorio_destino):\n",
        "    # Configurar las cabeceras del navegador\n",
        "    headers = {\n",
        "        'User-Agent': 'Mozilla/5.0 (Windows NT 10.0; Win64; x64) AppleWebKit/537.36 (KHTML, like Gecko) Chrome/58.0.3029.110 Safari/537.3'\n",
        "    }\n",
        "\n",
        "    # Realizar la solicitud HTTP con las cabeceras\n",
        "    response = requests.get(url, headers=headers)\n",
        "    if response.status_code == 200:\n",
        "        # Obtener el nombre del archivo de la URL\n",
        "        nombre_archivo = os.path.basename(urlparse(url).path)\n",
        "\n",
        "        # Verificar si es un directorio y omitir la descarga\n",
        "        if not nombre_archivo:\n",
        "            return\n",
        "\n",
        "        # Guardar el archivo en el directorio destino\n",
        "        ruta_archivo = os.path.join(directorio_destino, nombre_archivo)\n",
        "        with open(ruta_archivo, 'wb') as archivo:\n",
        "            archivo.write(response.content)\n",
        "        print(\"Archivo descargado:\", nombre_archivo)\n",
        "    else:\n",
        "        print(\"Error al descargar el archivo:\", url, response.status_code)\n",
        "\n",
        "# URL del sitio web a clonar\n",
        "url_sitio_web = input(\"Introduce la URL del sitio web: \")\n",
        "clonar_sitio_web(url_sitio_web)"
      ]
    }
  ]
}